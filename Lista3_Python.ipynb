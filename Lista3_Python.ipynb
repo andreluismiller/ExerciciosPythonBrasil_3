{
  "nbformat": 4,
  "nbformat_minor": 0,
  "metadata": {
    "colab": {
      "name": "Lista3_Python.ipynb",
      "provenance": [],
      "authorship_tag": "ABX9TyOKJtZzjOSnOL872lVQGmie",
      "include_colab_link": true
    },
    "kernelspec": {
      "name": "python3",
      "display_name": "Python 3"
    },
    "language_info": {
      "name": "python"
    }
  },
  "cells": [
    {
      "cell_type": "markdown",
      "metadata": {
        "id": "view-in-github",
        "colab_type": "text"
      },
      "source": [
        "<a href=\"https://colab.research.google.com/github/andreluismiller/ExerciciosPythonBrasil_3/blob/main/Lista3_Python.ipynb\" target=\"_parent\"><img src=\"https://colab.research.google.com/assets/colab-badge.svg\" alt=\"Open In Colab\"/></a>"
      ]
    },
    {
      "cell_type": "code",
      "metadata": {
        "id": "zpKWdvohmozk"
      },
      "source": [
        "#Exercício 1\n",
        "\n",
        "nota = float(input(\"Digite o valor da nota entre 0 a 10: \"))\n",
        "while nota < 0 or nota > 10:\n",
        "  nota = float(input(\"Valor inválido! Digite o valor da nota entre 0 a 10: \"))"
      ],
      "execution_count": null,
      "outputs": []
    },
    {
      "cell_type": "code",
      "metadata": {
        "id": "H84BE9mint_6"
      },
      "source": [
        "#Exercício 2\n",
        "\n",
        "user = input(\"Entre com o seu nome de usuário: \")\n",
        "senha = input(\"Entre com sua senha: \")\n",
        "while user == senha:\n",
        "  print(\"A senha deve ser diferente do nome de usuário!\")\n",
        "  senha = input(\"Entre com uma sua senha: \")"
      ],
      "execution_count": null,
      "outputs": []
    },
    {
      "cell_type": "code",
      "metadata": {
        "id": "Tl8X8PI2oXq0"
      },
      "source": [
        "#Exercício 3\n",
        "\n",
        "nome = \"a\"\n",
        "while len(nome) <= 3:\n",
        "  nome = input(\"Entre com um nome válido: \")\n",
        "\n",
        "idade = -1\n",
        "while idade < 0 or idade > 150:\n",
        "  idade = int(input(\"Entre com um idade válida: \"))\n",
        "\n",
        "salario = 0 \n",
        "while salario <= 0:\n",
        "  salario = float(input(\"Entre com um valor válido para salário: \"))\n",
        "\n",
        "sexo = \"x\"\n",
        "while sexo != \"f\" and sexo != \"m\":\n",
        "  sexo = input(\"Entre com o seu sexo (f para feminino ou m para masculino): \")\n",
        "\n",
        "estado_civil = \"y\"\n",
        "while estado_civil != \"s\" and estado_civil != \"c\" and estado_civil != \"v\" and estado_civil != \"d\":\n",
        "  estado_civil = input(\"Entre com seu estado civil (s para solteiro(a), c para casado(a), v para viúvo(a) ou d para divorciado(a)): \")\n"
      ],
      "execution_count": null,
      "outputs": []
    },
    {
      "cell_type": "code",
      "metadata": {
        "id": "XYGrMa74q08W"
      },
      "source": [
        "#Exercício 4\n",
        "popA = 80000\n",
        "taxaA = 0.03\n",
        "popB = 200000\n",
        "taxaB = 0.015\n",
        "anos = 1\n",
        "\n",
        "while popA < popB:\n",
        "  popA = popA * (popA * taxaA)\n",
        "  popB = popB * (popB * taxaB)\n",
        "  anos = anos + 1\n",
        "\n",
        "print(\"O número de anos necessários para que a população A seja igual ou maior a de B é {} anos\".format(anos))"
      ],
      "execution_count": null,
      "outputs": []
    },
    {
      "cell_type": "code",
      "metadata": {
        "id": "B0M0AagTtk_d"
      },
      "source": [
        "#Exercício 5\n",
        "fim = \"n\"\n",
        "while fim == \"n\":\n",
        "\n",
        "  popA = int(input(\"Entre com a população do primeiro país: \"))\n",
        "  while popA < 0:\n",
        "    popA = int(input(\"Valor inválido. Entre com a população do primeiro país: \"))\n",
        "  taxaA = float(input(\"Entre com a porcentagem de taxa de crescimento populacional do primeiro país, em formato decimal: \"))\n",
        "  popB = int(input(\"Entre com a população do segundo país: \"))\n",
        "  while popB < 0:\n",
        "    popA = int(input(\"Valor inválido. Entre com a população do segundo país: \"))\n",
        "  taxaB = float(input(\"Entre com a porcentagem de taxa de crescimento populacional do segundo país, em formato decimal: \"))\n",
        "\n",
        "  anos = 1\n",
        "  while popA < popB:\n",
        "    popA = popA * (popA * taxaA)\n",
        "    popB = popB * (popB * taxaB)\n",
        "    anos = anos + 1\n",
        "\n",
        "print(\"O número de anos necessários para que a população A seja igual ou maior a de B é {} anos\".format(anos))\n",
        "\n",
        "fim = input(\"Deseja realizar uma nova consulta (s para sim e n para não)? \")    \n"
      ],
      "execution_count": null,
      "outputs": []
    },
    {
      "cell_type": "code",
      "metadata": {
        "id": "k7WH_-r9xDXr"
      },
      "source": [
        "#Exercício 6\n",
        "\n",
        "i = 1\n",
        "while i <= 20:\n",
        "  print(i)\n",
        "  i = i + 1"
      ],
      "execution_count": null,
      "outputs": []
    },
    {
      "cell_type": "code",
      "metadata": {
        "id": "0Suc-L-dxnEM"
      },
      "source": [
        "#Exercício 7\n",
        "\n",
        "\n",
        "for c in range(1, 6):\n",
        "  n = int(input(\"Digite o valor do {}° número: \".format(c)))\n",
        "  max_value = None\n",
        "\n",
        "  for num in n:\n",
        "    if (max_value is None or num > max_value):\n",
        "      max_value = num\n",
        "    \n",
        "print(\"O maior dos números é {}\".format(max_value))\n",
        "  "
      ],
      "execution_count": null,
      "outputs": []
    },
    {
      "cell_type": "code",
      "metadata": {
        "id": "z5YD85xH88Nn"
      },
      "source": [
        "#Exercício 9\n",
        "\n",
        "i = 1\n",
        "\n",
        "while i < 50:\n",
        "  if i % 2 != 0:\n",
        "    print(i)\n",
        "  i = i + 1\n",
        "  "
      ],
      "execution_count": null,
      "outputs": []
    }
  ]
}